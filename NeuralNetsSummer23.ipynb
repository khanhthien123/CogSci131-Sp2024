{
 "cells": [
  {
   "cell_type": "code",
   "execution_count": 888,
   "metadata": {},
   "outputs": [],
   "source": [
    "import numpy as np\n",
    "%matplotlib inline\n",
    "import matplotlib.pyplot as plt\n",
    "\n",
    "\n",
    "class Neural_Network(object):\n",
    "    def __init__(self):\n",
    "        #Define Parameters\n",
    "        self.inputLayerSize = 2\n",
    "        self.outputLayerSize=1\n",
    "        #self.hiddenLayerSize=3\n",
    "        self.hiddenLayerSize=10\n",
    "        \n",
    "        #Define Weights\n",
    "        self.W1=np.random.rand(self.inputLayerSize,self.hiddenLayerSize)\n",
    "        self.W2=np.random.rand(self.hiddenLayerSize,self.outputLayerSize)\n",
    "\n",
    "    def forward(self,X):\n",
    "        #Propagate inputs through network\n",
    "        self.z2 = np.dot(X,self.W1)\n",
    "        #self.a2 = self.sigmoid(self.z2)\n",
    "        self.a2 = self.relu(self.z2)\n",
    "        self.z3 = np.dot(self.a2,self.W2)\n",
    "        #yHat = self.sigmoid(self.z3)\n",
    "        yHat = self.relu(self.z3)\n",
    "        return yHat\n",
    "    \n",
    "    def sigmoid(self, z):\n",
    "        #Apply Sigmoid Activation Function\n",
    "        return 1/(1+np.exp(-z))\n",
    "    \n",
    "    def sigmoidPrime(self,z):\n",
    "        #Derivative of Sigmoid Function\n",
    "        return np.exp(-z)/((1+np.exp(-z))**2)\n",
    "    \n",
    "    def relu(self, z):\n",
    "        return np.maximum(0, z)\n",
    "    \n",
    "    def reluPrime(self,z):\n",
    "        return 1 * (z > 0)\n",
    "    \n",
    "    def costFunction(self, X, y):\n",
    "        #Compute Cost Function with weights already stored in class\n",
    "        self.yHat=self.forward(X)\n",
    "        J=0.5*sum((y-self.yHat)**2)\n",
    "        return J\n",
    "    \n",
    "    def costFunctionPrime(self, X, y):\n",
    "        #Compute derivatives with respect to W1 and W2\n",
    "        self.yHat=self.forward(X)\n",
    "        #delta3 = np.multiply(-(y-self.yHat),self.sigmoidPrime(self.z3))\n",
    "        delta3 = np.multiply(-(y-self.yHat),self.reluPrime(self.z3))\n",
    "        dJdW2=np.dot(self.a2.T,delta3)\n",
    "        #delta2=np.dot(delta3,self.W2.T)*self.sigmoidPrime(self.z2)\n",
    "        delta2=np.dot(delta3,self.W2.T)*self.reluPrime(self.z2)\n",
    "        dJdW1=np.dot(X.T,delta2)\n",
    "        return dJdW1,dJdW2\n",
    "    "
   ]
  },
  {
   "cell_type": "code",
   "execution_count": 889,
   "metadata": {},
   "outputs": [],
   "source": [
    "X=np.array(([3,5],[5,1],[10,1]),dtype=float)\n",
    "y=np.array(([75],[80],[93]),dtype=float)"
   ]
  },
  {
   "cell_type": "code",
   "execution_count": 890,
   "metadata": {},
   "outputs": [
    {
     "data": {
      "text/plain": [
       "array([[ 3.,  5.],\n",
       "       [ 5.,  1.],\n",
       "       [10.,  1.]])"
      ]
     },
     "execution_count": 890,
     "metadata": {},
     "output_type": "execute_result"
    }
   ],
   "source": [
    "X\n"
   ]
  },
  {
   "cell_type": "code",
   "execution_count": 891,
   "metadata": {},
   "outputs": [
    {
     "data": {
      "text/plain": [
       "array([[75.],\n",
       "       [80.],\n",
       "       [93.]])"
      ]
     },
     "execution_count": 891,
     "metadata": {},
     "output_type": "execute_result"
    }
   ],
   "source": [
    "y"
   ]
  },
  {
   "cell_type": "code",
   "execution_count": 892,
   "metadata": {},
   "outputs": [],
   "source": [
    "X=X/np.amax(X,axis=0)\n",
    "y=y/100"
   ]
  },
  {
   "cell_type": "code",
   "execution_count": 893,
   "metadata": {},
   "outputs": [
    {
     "data": {
      "text/plain": [
       "(array([[0.3, 1. ],\n",
       "        [0.5, 0.2],\n",
       "        [1. , 0.2]]),\n",
       " array([[0.75],\n",
       "        [0.8 ],\n",
       "        [0.93]]))"
      ]
     },
     "execution_count": 893,
     "metadata": {},
     "output_type": "execute_result"
    }
   ],
   "source": [
    "X,y\n"
   ]
  },
  {
   "cell_type": "code",
   "execution_count": 894,
   "metadata": {},
   "outputs": [],
   "source": [
    "NN=Neural_Network()"
   ]
  },
  {
   "cell_type": "code",
   "execution_count": 895,
   "metadata": {},
   "outputs": [],
   "source": [
    "yH=NN.forward(X)"
   ]
  },
  {
   "cell_type": "code",
   "execution_count": 896,
   "metadata": {},
   "outputs": [
    {
     "data": {
      "text/plain": [
       "array([[3.53618904],\n",
       "       [1.44318646],\n",
       "       [2.27949174]])"
      ]
     },
     "execution_count": 896,
     "metadata": {},
     "output_type": "execute_result"
    }
   ],
   "source": [
    "yH"
   ]
  },
  {
   "cell_type": "code",
   "execution_count": 897,
   "metadata": {},
   "outputs": [
    {
     "data": {
      "text/plain": [
       "array([[0.75],\n",
       "       [0.8 ],\n",
       "       [0.93]])"
      ]
     },
     "execution_count": 897,
     "metadata": {},
     "output_type": "execute_result"
    }
   ],
   "source": [
    "y"
   ]
  },
  {
   "cell_type": "code",
   "execution_count": 898,
   "metadata": {},
   "outputs": [
    {
     "data": {
      "text/plain": [
       "<matplotlib.legend.Legend at 0x1dc717ddeb0>"
      ]
     },
     "execution_count": 898,
     "metadata": {},
     "output_type": "execute_result"
    },
    {
     "data": {
      "image/png": "[encoded data removed]",
      "text/plain": [
       "<Figure size 640x480 with 1 Axes>"
      ]
     },
     "metadata": {},
     "output_type": "display_data"
    }
   ],
   "source": [
    "testValues=np.arange(-5,5,0.01)\n",
    "# plt.plot(testValues,NN.sigmoid(testValues),linewidth=2)\n",
    "# plt.plot(testValues, NN.sigmoidPrime(testValues),linewidth=2)\n",
    "plt.plot(testValues,NN.relu(testValues),linewidth=2)\n",
    "plt.plot(testValues, NN.reluPrime(testValues),linewidth=2)\n",
    "plt.grid(1)\n",
    "# plt.legend(['Sigmoid','SigmoidPrime'])\n",
    "plt.legend(['relu','reluPrime'])\n"
   ]
  },
  {
   "cell_type": "code",
   "execution_count": 899,
   "metadata": {},
   "outputs": [],
   "source": [
    "NN=Neural_Network()"
   ]
  },
  {
   "cell_type": "code",
   "execution_count": 900,
   "metadata": {},
   "outputs": [],
   "source": [
    "cost1=NN.costFunction(X,y)"
   ]
  },
  {
   "cell_type": "code",
   "execution_count": 901,
   "metadata": {},
   "outputs": [
    {
     "data": {
      "text/plain": [
       "array([0.53539763])"
      ]
     },
     "execution_count": 901,
     "metadata": {},
     "output_type": "execute_result"
    }
   ],
   "source": [
    "cost1"
   ]
  },
  {
   "cell_type": "code",
   "execution_count": 902,
   "metadata": {},
   "outputs": [],
   "source": [
    "dJdW1,dJdW2=NN.costFunctionPrime(X,y)"
   ]
  },
  {
   "cell_type": "code",
   "execution_count": 903,
   "metadata": {},
   "outputs": [
    {
     "data": {
      "text/plain": [
       "array([[0.33885291, 0.41689674, 0.53124105, 0.26998959, 0.17508099,\n",
       "        0.12963025, 0.11677446, 0.02303057, 0.54018132, 0.01619729],\n",
       "       [0.31463657, 0.38710295, 0.49327558, 0.25069461, 0.16256872,\n",
       "        0.12036614, 0.1084291 , 0.02138468, 0.50157693, 0.01503974]])"
      ]
     },
     "execution_count": 903,
     "metadata": {},
     "output_type": "execute_result"
    }
   ],
   "source": [
    "dJdW1"
   ]
  },
  {
   "cell_type": "code",
   "execution_count": 904,
   "metadata": {},
   "outputs": [
    {
     "data": {
      "text/plain": [
       "array([[1.17061441],\n",
       "       [0.4953397 ],\n",
       "       [1.3859207 ],\n",
       "       [0.49088048],\n",
       "       [0.45435621],\n",
       "       [1.02823445],\n",
       "       [1.10727011],\n",
       "       [0.65995863],\n",
       "       [0.95129756],\n",
       "       [0.64108088]])"
      ]
     },
     "execution_count": 904,
     "metadata": {},
     "output_type": "execute_result"
    }
   ],
   "source": [
    "dJdW2"
   ]
  },
  {
   "cell_type": "code",
   "execution_count": 905,
   "metadata": {},
   "outputs": [
    {
     "name": "stdout",
     "output_type": "stream",
     "text": [
      "[0.53539763] [115.53307059]\n"
     ]
    }
   ],
   "source": [
    "scalar=1\n",
    "NN.W1 = NN.W1+scalar*dJdW1\n",
    "NN.W2 = NN.W2+scalar*dJdW2\n",
    "cost2 = NN.costFunction(X,y)\n",
    "print (cost1,cost2)"
   ]
  },
  {
   "cell_type": "code",
   "execution_count": 906,
   "metadata": {},
   "outputs": [
    {
     "name": "stdout",
     "output_type": "stream",
     "text": [
      "[115.53307059] [108.6403484]\n"
     ]
    },
    {
     "data": {
      "text/plain": [
       "'\\nWhen the learning rate is small enough, we can see the cost slowly gets to its minimum. We can bound it.\\nWhen the learning rate is unusually large, the cost forcefully increases even when we use subtraction to decrease the weights.\\nWhen using ReLu activation function, we see that the cost decreases even faster, so we need to make the learning rate smaller or it would blow up.\\n\\n'"
      ]
     },
     "execution_count": 906,
     "metadata": {},
     "output_type": "execute_result"
    },
    {
     "data": {
      "image/png": "[encoded data removed]",
      "text/plain": [
       "<Figure size 640x480 with 1 Axes>"
      ]
     },
     "metadata": {},
     "output_type": "display_data"
    }
   ],
   "source": [
    "scalar=0.025\n",
    "N = 100\n",
    "threshold = 1e-3\n",
    "NN.W1 = NN.W1-scalar*dJdW1\n",
    "NN.W2 = NN.W2-scalar*dJdW2\n",
    "cost3 = NN.costFunction(X,y)\n",
    "print (cost2,cost3)\n",
    "costs = []\n",
    "iterations = []\n",
    "for i in range(N):\n",
    "    #dJdW1,dJdW2=NN.costFunctionPrime(X,y)\n",
    "    NN.W1 = NN.W1-scalar*dJdW1\n",
    "    NN.W2 = NN.W2-scalar*dJdW2\n",
    "    cost3 = NN.costFunction(X,y)\n",
    "    iterations.append(i)\n",
    "    costs.append(cost3)\n",
    "\n",
    "plt.plot(iterations, costs, linewidth=2)\n",
    "plt.grid(1)\n",
    "\n",
    "\"\"\"\n",
    "When the learning rate is small enough, we can see the cost slowly gets to its minimum. We can bound it.\n",
    "When the learning rate is unusually large, the cost forcefully increases even when we use subtraction to decrease the weights.\n",
    "When using ReLu activation function, we see that the cost decreases even faster, so we need to make the learning rate smaller or it would blow up.\n",
    "When we increase the hidden layers to 10, the cost doesn't seem to go back up anymore as it stays really close to its minimum.\n",
    "\"\"\""
   ]
  }
 ],
 "metadata": {
  "kernelspec": {
   "display_name": "Python 3 (ipykernel)",
   "language": "python",
   "name": "python3"
  },
  "language_info": {
   "codemirror_mode": {
    "name": "ipython",
    "version": 3
   },
   "file_extension": ".py",
   "mimetype": "text/x-python",
   "name": "python",
   "nbconvert_exporter": "python",
   "pygments_lexer": "ipython3",
   "version": "3.12.1"
  }
 },
 "nbformat": 4,
 "nbformat_minor": 2
}
